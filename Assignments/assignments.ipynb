{
 "cells": [
  {
   "cell_type": "code",
   "execution_count": 1,
   "metadata": {},
   "outputs": [
    {
     "name": "stdout",
     "output_type": "stream",
     "text": [
      "HEllo <class 'str'>\n",
      "(1, 2, 3, 4) <class 'tuple'>\n",
      "12 <class 'int'>\n",
      "[1, 2, 3, 4, 5] <class 'list'>\n",
      "{1, 2, 3, 4, 5} <class 'set'>\n",
      "frozenset({1, 2, 3, 4, 5}) <class 'frozenset'>\n",
      "True <class 'bool'>\n"
     ]
    }
   ],
   "source": [
    "str = \"HEllo\"\n",
    "print(str, type(str))\n",
    "\n",
    "tup = (1,2,3,4)\n",
    "print(tup, type(tup))\n",
    "\n",
    "num = 12\n",
    "print(num, type(num))\n",
    "\n",
    "li = [1,2,3,4,5]\n",
    "print(li, type(li))\n",
    "\n",
    "set1 = {1,2,3,4,5}\n",
    "frozen = frozenset(set1)\n",
    "print(set1,type(set1))\n",
    "print(frozen, type(frozen)) \n",
    "\n",
    "bool = True\n",
    "print(bool, type(bool))"
   ]
  },
  {
   "cell_type": "code",
   "execution_count": 17,
   "metadata": {},
   "outputs": [
    {
     "name": "stdout",
     "output_type": "stream",
     "text": [
      "ell\n",
      "dlrow olleH\n",
      "w\n",
      "Hello world deez nuts\n",
      "Hello world deez nutsHello world deez nutsHello world deez nuts\n",
      "Hello Hello world deez nuts\n",
      "True\n",
      "False\n",
      "True\n"
     ]
    }
   ],
   "source": [
    "str = \"Hello world\"\n",
    "print(str[1:4]) #string slicing\n",
    "print(str[::-1]) #reversing string\n",
    "print(str[6]) #printing individual characters\n",
    "\n",
    "str = str+ \" deez nuts\"\n",
    "print(str)#printing concatinated string\n",
    "print(str*3)\n",
    "print(\"Hello %s\" %str)\n",
    "\n",
    "#membership operator\n",
    "arr = [\"Hello\", \"world\"]\n",
    "\n",
    "print(str[:5] in arr)\n",
    "\n",
    "#identity operator\n",
    "print(str is arr)\n",
    "\n",
    "str2 = str\n",
    "print(str is str2)\n",
    "\n",
    "\n"
   ]
  },
  {
   "cell_type": "code",
   "execution_count": 18,
   "metadata": {},
   "outputs": [
    {
     "name": "stdout",
     "output_type": "stream",
     "text": [
      "{'str': 26}\n"
     ]
    }
   ],
   "source": [
    "str = \"Hello my name is deez nuts\"\n",
    "\n",
    "dict = {\n",
    "    \"str\": len(str)\n",
    "}\n",
    "print(dict)"
   ]
  },
  {
   "attachments": {},
   "cell_type": "markdown",
   "metadata": {},
   "source": [
    "Assignment 3\n"
   ]
  },
  {
   "cell_type": "code",
   "execution_count": 3,
   "metadata": {},
   "outputs": [
    {
     "name": "stdout",
     "output_type": "stream",
     "text": [
      "Accessing elements in a l1:\n",
      "3\n",
      "Joining lists\n",
      "[1, 2, 3, 4, 5, 'Hello', 'I', 'am', 'deez']\n",
      "Replacing elements in a list\n",
      "['Hello', 'I', 'am', 'Vaibhav']\n",
      "Replicated list: [1, 2, 3, 4, 5]\n",
      "List slicing\n",
      "['I', 'am', 'Vaibhav']\n",
      "['Hello', 'I', 'am', 'Vaibhav']\n",
      "['Hello', 'I', 'am']\n",
      "['Vaibhav', 'am', 'I', 'Hello']\n"
     ]
    }
   ],
   "source": [
    "#creation of a list\n",
    "l1 = [1,2,3,4,5]\n",
    "\n",
    "#accessing the list\n",
    "print(\"Accessing elements in a l1:\")\n",
    "print(l1[2])\n",
    "\n",
    "#joining the list\n",
    "print(\"Joining lists\")\n",
    "l2 = [\"Hello\",\"I\",\"am\",\"deez\"]\n",
    "l2 = l1+l2\n",
    "print(l2)\n",
    "\n",
    "#replacing elements in a list\n",
    "print(\"Replacing elements in a list\")\n",
    "l2 = [\"Hello\", \"I\", \"am\", \"deez\"]\n",
    "l2[3] = \"Vaibhav\"\n",
    "print(l2)\n",
    "\n",
    "#replicating a list\n",
    "l3 = l1\n",
    "print(\"Replicated list:\", l3)\n",
    "\n",
    "#list slicing\n",
    "print(\"List slicing\")\n",
    "print(l2[1:])\n",
    "print(l2[:])\n",
    "print(l2[:3])\n",
    "print(l2[::-1])"
   ]
  },
  {
   "attachments": {},
   "cell_type": "markdown",
   "metadata": {},
   "source": [
    "Program to sum up all the items in a list\n",
    "Program to get largest number from a list\n",
    "Program to check list is empty or not\n",
    "Program to clone or copy a list\n",
    "Program that takes 2 lists and returns true if they have, atleast one common member\n",
    "Program to generate and print a list of first 5 and last 5 elements where the values are the square of numbers between 1 and 30 (both included)\n",
    "Program to print a specified list after removing the even numbers from it\n",
    "Program to print a specified list after removing 0th, 4th and 5th elements from that list"
   ]
  },
  {
   "cell_type": "code",
   "execution_count": 11,
   "metadata": {},
   "outputs": [
    {
     "name": "stdout",
     "output_type": "stream",
     "text": [
      "15\n",
      "5\n",
      "list is not empty\n",
      "[1, 2, 3, 4, 5]\n",
      "False\n",
      "First 5 elements [1, 4, 9, 16, 25]\n",
      "Last 5 elements: [676, 729, 784, 841, 900]\n",
      "[2, 3, 4, 5, 7]\n"
     ]
    }
   ],
   "source": [
    "#Program to sum up all the items in a list\n",
    "l1 = [1,2,3,4,5]\n",
    "print(sum(l1))\n",
    "#Program to get largest number from a list\n",
    "print(max(l1))\n",
    "#Program to check list is empty or not\n",
    "if(len(l1) == 0):\n",
    "    print(\"Empty list\")\n",
    "else:\n",
    "    print(\"list is not empty\")\n",
    "\n",
    "#Program to clone or copy a list\n",
    "l2 = l1\n",
    "print(l2)\n",
    "\n",
    "#Program that takes 2 lists and returns true if they have, atleast one common member\n",
    "def common_member(l1,l2):\n",
    "    if l1 in l2:\n",
    "        return True\n",
    "    return False\n",
    "\n",
    "print(common_member(l1,l2))\n",
    "#Program to generate and print a list of first 5 and last 5 elements where the values are the square of numbers between 1 and 30 (both included)\n",
    "list_pow = []\n",
    "for i in range(1,31):\n",
    "    list_pow.append(pow(i,2))\n",
    "print(\"First 5 elements\", list_pow[:5])\n",
    "print(\"Last 5 elements:\",list_pow[-5:])\n",
    "\n",
    "list_remove_even = []\n",
    "for i in range(1,10):\n",
    "    list_remove_even.append(i)\n",
    "\n",
    "#Program to print a specified list after removing the even numbers from it\n",
    "poplist = []\n",
    "for i in range(0,len(list_remove_even)-1):\n",
    "    if list_remove_even[i] %2 == 0:\n",
    "        poplist.append(list_remove_even[i])\n",
    "for ele in poplist:\n",
    "    list_remove_even.remove(ele)\n",
    "\n",
    "\n",
    "#Program to print a specified list after removing 0th, 4th and 5th elements from that list\n",
    "\n",
    "remove_list = [1,2,3,4,5,6,7,8]\n",
    "remove_list.pop(0)\n",
    "remove_list.pop(4)\n",
    "remove_list.pop(5)\n",
    "print(remove_list)\n"
   ]
  },
  {
   "cell_type": "code",
   "execution_count": 3,
   "metadata": {},
   "outputs": [
    {
     "name": "stdout",
     "output_type": "stream",
     "text": [
      "2\n",
      "(1, 2, 3, 4, 5, 4, 5, 6)\n",
      "(4, 5, 6)\n",
      "(3, 4)\n"
     ]
    }
   ],
   "source": [
    "#Assignment 4\n",
    "#creating tuple\n",
    "tup = (1,2,3,4,5)\n",
    "#accessing tuple\n",
    "print(tup[1])\n",
    "#joining tuples\n",
    "tup1 = (4,5,6)\n",
    "print(tup+tup1)\n",
    "#replicating tuples\n",
    "tup2 = tup1\n",
    "print(tup2)\n",
    "#slicing tuples\n",
    "print(tup[2:-1])\n"
   ]
  },
  {
   "attachments": {},
   "cell_type": "markdown",
   "metadata": {},
   "source": [
    "Assignment 5\n",
    "Write a program to demonstrate use of Dictionaries in python and perform: Accessing values in\n",
    "dictionaries, Working with dictionaries- Create, Merge, Delete set of keys, Rename.\n"
   ]
  },
  {
   "cell_type": "code",
   "execution_count": 15,
   "metadata": {},
   "outputs": [
    {
     "name": "stdout",
     "output_type": "stream",
     "text": [
      "vaibhav\n",
      "{'subject': 'itw2', 'name': 'vaibhav', 'class': 'syit'}\n",
      "{'name': 'vaibhav', 'class': 'syit'}\n",
      "{'name': 'vaibhav', 'class': 'syit', 'subject': 'dsa'}\n"
     ]
    }
   ],
   "source": [
    "#creating\n",
    "dict = {\n",
    "    \"name\": \"vaibhav\",\n",
    "    \"class\": \"syit\"\n",
    "}\n",
    "#accessing\n",
    "print(dict[\"name\"])\n",
    "\n",
    "#merging\n",
    "dict2 = {\n",
    "    \"subject\": \"itw2\"\n",
    "}\n",
    "dict2.update(dict)\n",
    "print(dict2)\n",
    "\n",
    "#deleting keys\n",
    "del dict2[\"subject\"]\n",
    "print(dict2)\n",
    "\n",
    "#renaming\n",
    "dict2[\"subject\"] = \"dsa\"\n",
    "print(dict2)\n"
   ]
  },
  {
   "attachments": {},
   "cell_type": "markdown",
   "metadata": {},
   "source": [
    "Assignment 6\n",
    "Write a program to demonstrate use of Set and Frozenset in python and perform: Creating Set and\n",
    "Frozenset, Accessing and Joining, Replicating and Slicing"
   ]
  },
  {
   "cell_type": "code",
   "execution_count": 24,
   "metadata": {},
   "outputs": [
    {
     "name": "stdout",
     "output_type": "stream",
     "text": [
      "{1, 2, 3, 4, 5, 6}\n",
      "frozenset({1, 2, 3, 4, 5, 6})\n",
      "{1, 2, 3, 4, 5, 6, 'c', 'a', 'b'}\n",
      "1\n",
      "2\n",
      "3\n",
      "4\n",
      "5\n",
      "6\n",
      "c\n",
      "a\n",
      "b\n",
      "{1, 2, 3, 4, 5, 6, 'c', 'a', 'b'}\n",
      "[2, 3, 4]\n",
      "{1, 2, 3, 4}\n",
      "{1, 2, 3, 4, 5, 6, 7, 8, 9, 10}\n",
      "{5}\n",
      "{1, 2, 3, 4, 6, 7, 8, 9, 10}\n",
      "False\n",
      "True\n"
     ]
    }
   ],
   "source": [
    "#creating a set and frozenset\n",
    "\n",
    "set1 = {1,2,3,4,5,6}\n",
    "set2 = {'a', 'b', 'c'}\n",
    "setFrozen = frozenset(set1)\n",
    "\n",
    "print(set1)\n",
    "print(setFrozen)\n",
    "\n",
    "#joining values in a set\n",
    "set1.update(set2)\n",
    "print(set1)\n",
    "\n",
    "#accessing values in set\n",
    "for val in set1:\n",
    "    print(val)\n",
    "\n",
    "#replicating values \n",
    "setCopy = set1\n",
    "print(setCopy)\n",
    "\n",
    "#slicing in set\n",
    "list1 = list(set1)\n",
    "x = slice(1,4)\n",
    "print(list1[x])\n",
    "\n",
    "#set operations\n",
    "sa = {1,2,3,4,5}\n",
    "sb = {5,6,7,8,9,10}\n",
    "print(sa.difference(sb))\n",
    "print(sa.union(sb))\n",
    "print(sa.intersection(sb))\n",
    "print(sa.symmetric_difference(sb))\n",
    "print(sa<sb)\n",
    "sa = sb\n",
    "print(sa == sb)\n"
   ]
  },
  {
   "attachments": {},
   "cell_type": "markdown",
   "metadata": {},
   "source": [
    "Assignment 7\n",
    "Functions in Python: function creation, function calls, function arguments, inner functions, built-in\n",
    "functions.\n",
    "Create a function showEmployee() in such a way that it should accept the employee name, and its\n",
    "salary and display both. If the salary is missing in the function call assign default value 9000 to salary."
   ]
  },
  {
   "cell_type": "code",
   "execution_count": 3,
   "metadata": {},
   "outputs": [
    {
     "name": "stdout",
     "output_type": "stream",
     "text": [
      "Hello Vaibhav\n",
      "ya mom\n",
      "Employe name: Emp1\n",
      "Salary: 9000\n",
      "Employe name: Emp2\n",
      "Salary: 20000\n",
      "3\n"
     ]
    }
   ],
   "source": [
    "#function creation and calling\n",
    "#inner function\n",
    "def helloPrinter(name):\n",
    "    print(\"Hello\",name)\n",
    "    def yourMom():\n",
    "        print(\"ya mom\")\n",
    "    yourMom()\n",
    "helloPrinter(\"Vaibhav\")\n",
    "\n",
    "#built in functions\n",
    "list = []\n",
    "list.append(\"hello\")\n",
    "\n",
    "def showEmployee(name, salary = 9000):\n",
    "    print(\"Employe name:\", name)\n",
    "    print(\"Salary:\",salary)\n",
    "\n",
    "showEmployee(\"Emp1\")\n",
    "showEmployee(\"Emp2\",20000)\n",
    "\n",
    "def add(x,y):\n",
    "    return x+y\n"
   ]
  },
  {
   "cell_type": "code",
   "execution_count": 10,
   "metadata": {},
   "outputs": [
    {
     "name": "stdout",
     "output_type": "stream",
     "text": [
      "(1, 2, 3, -2)\n",
      "1\n",
      "2\n",
      "3\n"
     ]
    }
   ],
   "source": [
    "def varlength(*num):\n",
    "    print(num)\n",
    "    for val in num:\n",
    "        if val > 0:\n",
    "            print(val)\n",
    "varlength(1,2,3,-2)"
   ]
  },
  {
   "cell_type": "code",
   "execution_count": 10,
   "metadata": {},
   "outputs": [
    {
     "name": "stdout",
     "output_type": "stream",
     "text": [
      "addition of 2 arrays is:  [[11 12  9]\n",
      " [16 16  4]]\n",
      "After squaring:  [[121 144  81]\n",
      " [256 256  16]]\n",
      "After sorting:  [[ 81 121 144]\n",
      " [ 16 256 256]]\n",
      "After splitting:  [array([[121, 144,  81]]), array([[256, 256,  16]]), array([], shape=(0, 3), dtype=int32)]\n"
     ]
    }
   ],
   "source": [
    "import numpy as np\n",
    "a1 = np.array([[6,6,7],[9,8,3]])\n",
    "a2 = np.array([[5,6,2],[7,8,1]])\n",
    "result = a1+a2\n",
    "print(\"addition of 2 arrays: \", result)\n",
    "for num in np.nditer(result,op_flags=['readwrite']):\n",
    "    num[...] = num*num\n",
    "print(\"After squaring: \", result)\n",
    "print(\"After sorting: \", np.sort(result))\n",
    "print(\"After splitting: \", np.array_split(result, 3))"
   ]
  }
 ],
 "metadata": {
  "kernelspec": {
   "display_name": "Python 3",
   "language": "python",
   "name": "python3"
  },
  "language_info": {
   "codemirror_mode": {
    "name": "ipython",
    "version": 3
   },
   "file_extension": ".py",
   "mimetype": "text/x-python",
   "name": "python",
   "nbconvert_exporter": "python",
   "pygments_lexer": "ipython3",
   "version": "3.10.11"
  },
  "orig_nbformat": 4,
  "vscode": {
   "interpreter": {
    "hash": "3a8854fa8ed42e01dfc29535093ca102708c43ad50980425c742992da5ee20a2"
   }
  }
 },
 "nbformat": 4,
 "nbformat_minor": 2
}
