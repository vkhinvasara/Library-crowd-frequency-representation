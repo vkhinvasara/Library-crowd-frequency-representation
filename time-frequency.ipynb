{
 "cells": [
  {
   "cell_type": "code",
   "execution_count": 21,
   "metadata": {},
   "outputs": [],
   "source": [
    "import pandas as pd\n",
    "import math"
   ]
  },
  {
   "attachments": {},
   "cell_type": "markdown",
   "metadata": {},
   "source": [
    "Calculating the floor hours for checked-times.csv"
   ]
  },
  {
   "cell_type": "code",
   "execution_count": 22,
   "metadata": {},
   "outputs": [],
   "source": [
    "data = pd.read_csv('checked-times.csv')\n",
    "data['time']=data['time'].transform(lambda x: x[:2])\n",
    "data.to_csv('checked-times1.csv',index=False)"
   ]
  },
  {
   "attachments": {},
   "cell_type": "markdown",
   "metadata": {},
   "source": [
    "Creating a single csv file which includes the checkin and checkout times for each visit in a single row"
   ]
  },
  {
   "cell_type": "code",
   "execution_count": 23,
   "metadata": {},
   "outputs": [],
   "source": [
    "column_names = [\"Name\", \"Rollno\", \"checkin-time\", \"checkout-time\"]\n",
    "df = pd.DataFrame(columns=column_names)\n",
    "df.to_csv(\"histogram-data.csv\",index=False)"
   ]
  },
  {
   "cell_type": "code",
   "execution_count": 24,
   "metadata": {},
   "outputs": [
    {
     "name": "stdout",
     "output_type": "stream",
     "text": [
      "       Name  Rollno  checkin-time  checkout-time\n",
      "0   Vaibhav  231074            10             11\n",
      "1      John  231075            12             15\n",
      "2      Mary  231076            14             16\n",
      "3     David  231077             9             17\n",
      "4     Alice  231078            11             18\n",
      "5       Bob  231079             8             10\n",
      "6      Sara  231080            13             14\n",
      "7     Peter  231081             9             11\n",
      "8     Linda  231082            12             13\n",
      "9      Mark  231083            14             16\n",
      "10     Jane  231084             8             10\n",
      "11      Tom  231085            11             13\n",
      "12    Jenny  231086            15             16\n",
      "13     Mike  231087            10             12\n",
      "14     Lucy  231088            14             16\n",
      "15   Oliver  231089             8             10\n",
      "16    Karen  231090            11             13\n",
      "17     Jake  231091            13             15\n",
      "18    Emily  231092             8             10\n",
      "19      Tim  231093            11             13\n",
      "20   Sophie  231094            14             16\n",
      "21    Kevin  231095            15             17\n",
      "22   Hannah  231096             8             10\n",
      "23      Max  231097            11             13\n",
      "24      Amy  231098            13             15\n"
     ]
    }
   ],
   "source": [
    "source = pd.read_csv(\"checked-times1.csv\")\n",
    "destination = pd.read_csv(\"histogram-data.csv\")\n",
    "\n",
    "for index, row in source.iterrows():\n",
    "    sample = []\n",
    "    if row[\"Checked\"] == \"In\":\n",
    "        sample.append(row[\"Name\"])\n",
    "        sample.append(row[\"Roll_no\"])\n",
    "        sample.append(row[\"time\"])\n",
    "        for i,r in source.iterrows():\n",
    "            if r[\"Checked\"] == \"Out\" and sample[1] == r[\"Roll_no\"]:\n",
    "                sample.append(r[\"time\"])\n",
    "    if len(sample) == 4:\n",
    "        destination.loc[len(destination.index)] = sample\n",
    "print(destination)\n",
    "destination.to_csv(\"histogram-data.csv\", index=False)"
   ]
  },
  {
   "attachments": {},
   "cell_type": "markdown",
   "metadata": {},
   "source": [
    "Creating another csv file which stores the frequncy of each hour."
   ]
  },
  {
   "cell_type": "code",
   "execution_count": 25,
   "metadata": {},
   "outputs": [],
   "source": [
    "column_names = []\n",
    "for i in range(9,20):\n",
    "    column_names.append(str(i-1))\n",
    "df = pd.DataFrame(columns=column_names)\n",
    "df.to_csv(\"time-frequency.csv\", index = False)"
   ]
  },
  {
   "cell_type": "code",
   "execution_count": 26,
   "metadata": {},
   "outputs": [
    {
     "name": "stdout",
     "output_type": "stream",
     "text": [
      "    8  9  10  11  12  13  14  15  16  17  18\n",
      "0   0  0   1   1   0   0   0   0   0   0   0\n",
      "1   0  0   0   0   1   1   1   1   0   0   0\n",
      "2   0  0   0   0   0   0   1   1   1   0   0\n",
      "3   0  1   1   1   1   1   1   1   1   1   0\n",
      "4   0  0   0   1   1   1   1   1   1   1   1\n",
      "5   1  1   1   0   0   0   0   0   0   0   0\n",
      "6   0  0   0   0   0   1   1   0   0   0   0\n",
      "7   0  1   1   1   0   0   0   0   0   0   0\n",
      "8   0  0   0   0   1   1   0   0   0   0   0\n",
      "9   0  0   0   0   0   0   1   1   1   0   0\n",
      "10  1  1   1   0   0   0   0   0   0   0   0\n",
      "11  0  0   0   1   1   1   0   0   0   0   0\n",
      "12  0  0   0   0   0   0   0   1   1   0   0\n",
      "13  0  0   1   1   1   0   0   0   0   0   0\n",
      "14  0  0   0   0   0   0   1   1   1   0   0\n",
      "15  1  1   1   0   0   0   0   0   0   0   0\n",
      "16  0  0   0   1   1   1   0   0   0   0   0\n",
      "17  0  0   0   0   0   1   1   1   0   0   0\n",
      "18  1  1   1   0   0   0   0   0   0   0   0\n",
      "19  0  0   0   1   1   1   0   0   0   0   0\n",
      "20  0  0   0   0   0   0   1   1   1   0   0\n",
      "21  0  0   0   0   0   0   0   1   1   1   0\n",
      "22  1  1   1   0   0   0   0   0   0   0   0\n",
      "23  0  0   0   1   1   1   0   0   0   0   0\n",
      "24  0  0   0   0   0   1   1   1   0   0   0\n"
     ]
    }
   ],
   "source": [
    "hd = pd.read_csv(\"histogram-data.csv\")\n",
    "tf = pd.read_csv(\"time-frequency.csv\")\n",
    "for index, rows in hd.iterrows():\n",
    "    sample = []\n",
    "    for i in range (0,len(tf.columns)):\n",
    "        sample.append(0)\n",
    "    start = int(rows[\"checkin-time\"])\n",
    "    end = int(rows[\"checkout-time\"])\n",
    "    start = start -8\n",
    "    end = end - 8\n",
    "    for i in range(end+1-start):\n",
    "        sample[start+i] = 1\n",
    "    # print(sample)\n",
    "    tf.loc[len(tf.index)] = sample\n",
    "print(tf)\n",
    "tf.to_csv('time-frequency.csv',index=False)\n"
   ]
  },
  {
   "attachments": {},
   "cell_type": "markdown",
   "metadata": {},
   "source": [
    "Finding the total time frequency for each hour and adding it to the end of the csv file"
   ]
  },
  {
   "cell_type": "code",
   "execution_count": 27,
   "metadata": {},
   "outputs": [
    {
     "name": "stdout",
     "output_type": "stream",
     "text": [
      "[5, 7, 9, 9, 9, 11, 10, 11, 8, 3, 1]\n"
     ]
    }
   ],
   "source": [
    "tf = pd.read_csv(\"time-frequency.csv\")\n",
    "\n",
    "sample = []\n",
    "for col in tf:\n",
    "    sample.append(sum(tf[col]))\n",
    "print(sample)\n",
    "tf.loc[len(tf.index)] = sample\n",
    "tf.to_csv('time-frequency.csv',index= False)"
   ]
  },
  {
   "cell_type": "code",
   "execution_count": 31,
   "metadata": {},
   "outputs": [
    {
     "data": {
      "image/png": "[encoded data removed]",
      "text/plain": [
       "<Figure size 432x288 with 1 Axes>"
      ]
     },
     "metadata": {
      "needs_background": "light"
     },
     "output_type": "display_data"
    },
    {
     "data": {
      "text/plain": [
       "<Figure size 2880x432 with 0 Axes>"
      ]
     },
     "metadata": {},
     "output_type": "display_data"
    }
   ],
   "source": [
    "import matplotlib.pyplot as plt\n",
    "\n",
    "x = list(tf.columns)\n",
    "y = tf.loc[len(tf.index)-1]\n",
    "# print(x)\n",
    "# print(y)\n",
    "plt.xlabel(\"Time\")\n",
    "plt.ylabel(\"Crowd\")\n",
    "plt.bar(x,y, edgecolor = \"black\")\n",
    "plt.title(\"Library crowd frequency\")\n",
    "plt.figure(figsize=(40,6))\n",
    "\n",
    "plt.show()\n",
    "\n"
   ]
  }
 ],
 "metadata": {
  "kernelspec": {
   "display_name": "Python 3",
   "language": "python",
   "name": "python3"
  },
  "language_info": {
   "codemirror_mode": {
    "name": "ipython",
    "version": 3
   },
   "file_extension": ".py",
   "mimetype": "text/x-python",
   "name": "python",
   "nbconvert_exporter": "python",
   "pygments_lexer": "ipython3",
   "version": "3.10.11"
  },
  "orig_nbformat": 4
 },
 "nbformat": 4,
 "nbformat_minor": 2
}
