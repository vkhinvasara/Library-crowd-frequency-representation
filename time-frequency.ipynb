{
 "cells": [
  {
   "cell_type": "code",
   "execution_count": null,
   "metadata": {},
   "outputs": [],
   "source": [
    "import pandas as pd\n",
    "import math"
   ]
  },
  {
   "cell_type": "code",
   "execution_count": null,
   "metadata": {},
   "outputs": [],
   "source": [
    "data = pd.read_csv('checked-times.csv')\n",
    "data['time']=data['time'].transform(lambda x: x[:2])\n",
    "data.to_csv('checked-times1.csv',index=False)"
   ]
  },
  {
   "cell_type": "code",
   "execution_count": null,
   "metadata": {},
   "outputs": [],
   "source": [
    "column_names = [\"Name\", \"Rollno\", \"checkin-time\", \"checkout-time\"]\n",
    "df = pd.DataFrame(columns=column_names)\n",
    "df.to_csv(\"histogram-data.csv\",index=False)"
   ]
  },
  {
   "cell_type": "code",
   "execution_count": null,
   "metadata": {},
   "outputs": [],
   "source": [
    "source = pd.read_csv(\"checked-times1.csv\")\n",
    "destination = pd.read_csv(\"histogram-data.csv\")\n",
    "\n",
    "for index, row in source.iterrows():\n",
    "    sample = []\n",
    "    if row[\"Checked\"] == \"In\":\n",
    "        sample.append(row[\"Name\"])\n",
    "        sample.append(row[\"Roll_no\"])\n",
    "        sample.append(row[\"time\"])\n",
    "        for i,r in source.iterrows():\n",
    "            if r[\"Checked\"] == \"Out\" and sample[1] == r[\"Roll_no\"]:\n",
    "                sample.append(r[\"time\"])\n",
    "    if len(sample) == 4:\n",
    "        destination.loc[len(destination.index)] = sample\n",
    "print(destination)\n",
    "destination.to_csv(\"histogram-data.csv\", index=False)"
   ]
  },
  {
   "cell_type": "code",
   "execution_count": null,
   "metadata": {},
   "outputs": [],
   "source": [
    "column_names = []\n",
    "for i in range(9,20):\n",
    "    sentence = str(i-1) + \" to \"+ str(i)\n",
    "    column_names.append(sentence)\n",
    "df = pd.DataFrame(columns=column_names)\n",
    "df.to_csv(\"time-frequency.csv\", index = False)"
   ]
  },
  {
   "cell_type": "code",
   "execution_count": null,
   "metadata": {},
   "outputs": [],
   "source": [
    "hd = pd.read_csv(\"histogram-data.csv\")\n",
    "tf = pd.read_csv(\"time-frequency.csv\")\n",
    "for index, rows in hd.iterrows():\n",
    "    sample = []\n",
    "    for i in range (0,len(tf.columns)):\n",
    "        sample.append(0)\n",
    "    start = int(rows[\"checkin-time\"])\n",
    "    end = int(rows[\"checkout-time\"])\n",
    "    start = start -8\n",
    "    end = end - 8\n",
    "    for i in range(end+1-start):\n",
    "        sample[start+i] = 1\n",
    "    # print(sample)\n",
    "    tf.loc[len(tf.index)] = sample\n",
    "print(tf)\n",
    "tf.to_csv('time-frequency.csv',index=False)\n"
   ]
  },
  {
   "cell_type": "code",
   "execution_count": null,
   "metadata": {},
   "outputs": [],
   "source": [
    "tf = pd.read_csv(\"time-frequency.csv\")\n",
    "\n",
    "sample = []\n",
    "for col in tf:\n",
    "    sample.append(sum(tf[col]))\n",
    "print(sample)\n",
    "tf.loc[len(tf.index)] = sample\n",
    "tf.to_csv('time-frequency.csv',index= False)"
   ]
  },
  {
   "cell_type": "code",
   "execution_count": null,
   "metadata": {},
   "outputs": [],
   "source": [
    "import matplotlib.pyplot as plt\n",
    "\n",
    "x = list(tf.columns)\n",
    "y = tf.loc[len(tf.index)-1]\n",
    "# print(x)\n",
    "# print(y)\n",
    "plt.bar(x,y)\n",
    "plt.title(\"Library crowd frequency\")\n",
    "plt.figure(figsize=(40,6))\n",
    "plt.show()\n"
   ]
  }
 ],
 "metadata": {
  "kernelspec": {
   "display_name": "Python 3",
   "language": "python",
   "name": "python3"
  },
  "language_info": {
   "codemirror_mode": {
    "name": "ipython",
    "version": 3
   },
   "file_extension": ".py",
   "mimetype": "text/x-python",
   "name": "python",
   "nbconvert_exporter": "python",
   "pygments_lexer": "ipython3",
   "version": "3.10.11"
  },
  "orig_nbformat": 4
 },
 "nbformat": 4,
 "nbformat_minor": 2
}
